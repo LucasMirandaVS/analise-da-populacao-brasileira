{
 "cells": [
  {
   "cell_type": "markdown",
   "metadata": {},
   "source": [
    "Realizando a coleta de dados da pagina do Wikipedia.\n",
    "\n",
    "site original: https://pt.wikipedia.org/wiki/Lista_de_munic%C3%ADpios_do_Brasil_por_popula%C3%A7%C3%A3o"
   ]
  },
  {
   "cell_type": "code",
   "execution_count": 1,
   "metadata": {},
   "outputs": [],
   "source": [
    "# Imports\n",
    "import requests as r\n",
    "import pandas as pd\n",
    "from bs4 import BeautifulSoup"
   ]
  },
  {
   "cell_type": "code",
   "execution_count": 2,
   "metadata": {},
   "outputs": [],
   "source": [
    "# Definindo a página\n",
    "pagina = r.get('https://pt.wikipedia.org/wiki/Lista_de_munic%C3%ADpios_do_Brasil_por_popula%C3%A7%C3%A3o')\n",
    "resp = pagina.content # pegando todo o conteúdo da página"
   ]
  },
  {
   "cell_type": "code",
   "execution_count": 3,
   "metadata": {},
   "outputs": [],
   "source": [
    "# Busca com o beautiful soup\n",
    "sopa = BeautifulSoup(resp, 'html.parser')\n",
    "tabela = sopa.find('table', class_=\"wikitable sortable\") # Aqui eu especifiquei de acordo com a tag html"
   ]
  },
  {
   "cell_type": "code",
   "execution_count": 5,
   "metadata": {},
   "outputs": [],
   "source": [
    "# Agora definindo o data frame \n",
    "df = pd.read_html(str(tabela))\n",
    "df = pd.concat(df)"
   ]
  },
  {
   "cell_type": "code",
   "execution_count": 6,
   "metadata": {},
   "outputs": [
    {
     "name": "stdout",
     "output_type": "stream",
     "text": [
      "     Posição  Código IBGE         Município Unidade federativa   População\n",
      "0         1º      3550308         São Paulo          São Paulo  12 396 372\n",
      "1         2º      3304557    Rio de Janeiro     Rio de Janeiro   6 775 561\n",
      "2         3º      5300108          Brasília   Distrito Federal   3 094 325\n",
      "3         4º      2927408          Salvador              Bahia   2 900 319\n",
      "4         5º      2304400         Fortaleza              Ceará   2 703 391\n",
      "...      ...          ...               ...                ...         ...\n",
      "5565   5566º      4322350    União da Serra  Rio Grande do Sul       1 084\n",
      "5566   5567º      4306924     Engenho Velho  Rio Grande do Sul         932\n",
      "5567   5568º      5101209        Araguainha        Mato Grosso         909\n",
      "5568   5569º      3507209              Borá          São Paulo         839\n",
      "5569   5570º      3166600  Serra da Saudade       Minas Gerais         771\n",
      "\n",
      "[5570 rows x 5 columns]\n"
     ]
    }
   ],
   "source": [
    "print(df)"
   ]
  },
  {
   "cell_type": "code",
   "execution_count": 7,
   "metadata": {},
   "outputs": [],
   "source": [
    "# Agora exportando em um CSV\n",
    "df.to_csv('municipios.csv', index = False)"
   ]
  }
 ],
 "metadata": {
  "kernelspec": {
   "display_name": "Python 3.9.6 64-bit",
   "language": "python",
   "name": "python3"
  },
  "language_info": {
   "codemirror_mode": {
    "name": "ipython",
    "version": 3
   },
   "file_extension": ".py",
   "mimetype": "text/x-python",
   "name": "python",
   "nbconvert_exporter": "python",
   "pygments_lexer": "ipython3",
   "version": "3.9.6"
  },
  "orig_nbformat": 4,
  "vscode": {
   "interpreter": {
    "hash": "2adcef65025017a28c8a8e125c00b146f28fabedf291ca46c1a4a0bfed978fa1"
   }
  }
 },
 "nbformat": 4,
 "nbformat_minor": 2
}
