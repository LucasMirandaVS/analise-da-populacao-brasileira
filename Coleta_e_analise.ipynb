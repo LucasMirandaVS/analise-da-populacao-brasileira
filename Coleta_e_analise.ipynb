{
  "nbformat": 4,
  "nbformat_minor": 0,
  "metadata": {
    "colab": {
      "name": "Coleta e analise.ipynb",
      "provenance": [],
      "authorship_tag": "ABX9TyMlVTln49vR3G87v0pKs+Vm",
      "include_colab_link": true
    },
    "kernelspec": {
      "name": "python3",
      "display_name": "Python 3"
    },
    "language_info": {
      "name": "python"
    }
  },
  "cells": [
    {
      "cell_type": "markdown",
      "metadata": {
        "id": "view-in-github",
        "colab_type": "text"
      },
      "source": [
        "<a href=\"https://colab.research.google.com/github/LucasMirandaVS/analise-da-populacao-brasileira/blob/main/Coleta_e_analise.ipynb\" target=\"_parent\"><img src=\"https://colab.research.google.com/assets/colab-badge.svg\" alt=\"Open In Colab\"/></a>"
      ]
    },
    {
      "cell_type": "code",
      "execution_count": 1,
      "metadata": {
        "id": "yiChmYht0-wh"
      },
      "outputs": [],
      "source": [
        "# Imports\n",
        "# web scrapping\n",
        "import requests as r\n",
        "from bs4 import BeautifulSoup\n",
        "# Manipulação dos dados e viz\n",
        "import pandas as pd\n",
        "import numpy as np\n",
        "import seaborn as sns"
      ]
    },
    {
      "cell_type": "markdown",
      "source": [
        "## Coleta e limpeza"
      ],
      "metadata": {
        "id": "c39W5tIg__44"
      }
    },
    {
      "cell_type": "code",
      "source": [
        "# Definindo o endereço da primeira página\n",
        "pag1 = r.get('https://pt.wikipedia.org/wiki/Lista_de_munic%C3%ADpios_do_Brasil_por_popula%C3%A7%C3%A3o')"
      ],
      "metadata": {
        "id": "N6oakjgiDFy0"
      },
      "execution_count": 2,
      "outputs": []
    },
    {
      "cell_type": "code",
      "source": [
        "response1 = pag1.content  #extraindo o conteúdo"
      ],
      "metadata": {
        "id": "hsh0RK7mDZpU"
      },
      "execution_count": 3,
      "outputs": []
    },
    {
      "cell_type": "code",
      "source": [
        "# Busca com o beautiful soup\n",
        "soup1 = BeautifulSoup(response1, 'html.parser')\n",
        "tabela1 = soup1.find('table', class_ = 'wikitable sortable') # Especificando de acordo com a tag html"
      ],
      "metadata": {
        "id": "eh5BIOqHDybP"
      },
      "execution_count": 4,
      "outputs": []
    },
    {
      "cell_type": "code",
      "source": [
        "# Agora definindo o data frame \n",
        "df1 = pd.read_html(str(tabela1))\n",
        "df1 = pd.concat(df1)"
      ],
      "metadata": {
        "id": "MSgxBTE2ElUj"
      },
      "execution_count": 5,
      "outputs": []
    },
    {
      "cell_type": "code",
      "source": [
        "print(df1) # ficou bom"
      ],
      "metadata": {
        "colab": {
          "base_uri": "https://localhost:8080/"
        },
        "id": "eChkr3KDEt2V",
        "outputId": "66990da0-1e6b-41a1-9893-13591a3d216f"
      },
      "execution_count": 6,
      "outputs": [
        {
          "output_type": "stream",
          "name": "stdout",
          "text": [
            "     Posição  Código IBGE         Município Unidade federativa   População\n",
            "0         1º      3550308         São Paulo          São Paulo  12 396 372\n",
            "1         2º      3304557    Rio de Janeiro     Rio de Janeiro   6 775 561\n",
            "2         3º      5300108          Brasília   Distrito Federal   3 094 325\n",
            "3         4º      2927408          Salvador              Bahia   2 900 319\n",
            "4         5º      2304400         Fortaleza              Ceará   2 703 391\n",
            "...      ...          ...               ...                ...         ...\n",
            "5565   5566º      4322350    União da Serra  Rio Grande do Sul       1 084\n",
            "5566   5567º      4306924     Engenho Velho  Rio Grande do Sul         932\n",
            "5567   5568º      5101209        Araguainha        Mato Grosso         909\n",
            "5568   5569º      3507209              Borá          São Paulo         839\n",
            "5569   5570º      3166600  Serra da Saudade       Minas Gerais         771\n",
            "\n",
            "[5570 rows x 5 columns]\n"
          ]
        }
      ]
    },
    {
      "cell_type": "code",
      "source": [
        "df1.rename(columns={'Posição': 'posicao (populacao)', 'Município': 'municipio', 'Unidade federativa':'UF', \n",
        "                    'População': 'populacao'}, inplace = True)\n",
        "df1.drop('UF', axis=1, inplace=True)\n",
        "df1.drop('Código IBGE', axis = 1, inplace = True)\n",
        "df1.head()"
      ],
      "metadata": {
        "colab": {
          "base_uri": "https://localhost:8080/",
          "height": 206
        },
        "id": "dqTm4Ni3IO3X",
        "outputId": "e7ea1ab1-c726-478b-e0bf-c4f517f02ef8"
      },
      "execution_count": 7,
      "outputs": [
        {
          "output_type": "execute_result",
          "data": {
            "text/plain": [
              "  posicao (populacao)       municipio   populacao\n",
              "0                  1º       São Paulo  12 396 372\n",
              "1                  2º  Rio de Janeiro   6 775 561\n",
              "2                  3º        Brasília   3 094 325\n",
              "3                  4º        Salvador   2 900 319\n",
              "4                  5º       Fortaleza   2 703 391"
            ],
            "text/html": [
              "\n",
              "  <div id=\"df-eb93ad79-f14e-4c23-aae0-a9b4f925088a\">\n",
              "    <div class=\"colab-df-container\">\n",
              "      <div>\n",
              "<style scoped>\n",
              "    .dataframe tbody tr th:only-of-type {\n",
              "        vertical-align: middle;\n",
              "    }\n",
              "\n",
              "    .dataframe tbody tr th {\n",
              "        vertical-align: top;\n",
              "    }\n",
              "\n",
              "    .dataframe thead th {\n",
              "        text-align: right;\n",
              "    }\n",
              "</style>\n",
              "<table border=\"1\" class=\"dataframe\">\n",
              "  <thead>\n",
              "    <tr style=\"text-align: right;\">\n",
              "      <th></th>\n",
              "      <th>posicao (populacao)</th>\n",
              "      <th>municipio</th>\n",
              "      <th>populacao</th>\n",
              "    </tr>\n",
              "  </thead>\n",
              "  <tbody>\n",
              "    <tr>\n",
              "      <th>0</th>\n",
              "      <td>1º</td>\n",
              "      <td>São Paulo</td>\n",
              "      <td>12 396 372</td>\n",
              "    </tr>\n",
              "    <tr>\n",
              "      <th>1</th>\n",
              "      <td>2º</td>\n",
              "      <td>Rio de Janeiro</td>\n",
              "      <td>6 775 561</td>\n",
              "    </tr>\n",
              "    <tr>\n",
              "      <th>2</th>\n",
              "      <td>3º</td>\n",
              "      <td>Brasília</td>\n",
              "      <td>3 094 325</td>\n",
              "    </tr>\n",
              "    <tr>\n",
              "      <th>3</th>\n",
              "      <td>4º</td>\n",
              "      <td>Salvador</td>\n",
              "      <td>2 900 319</td>\n",
              "    </tr>\n",
              "    <tr>\n",
              "      <th>4</th>\n",
              "      <td>5º</td>\n",
              "      <td>Fortaleza</td>\n",
              "      <td>2 703 391</td>\n",
              "    </tr>\n",
              "  </tbody>\n",
              "</table>\n",
              "</div>\n",
              "      <button class=\"colab-df-convert\" onclick=\"convertToInteractive('df-eb93ad79-f14e-4c23-aae0-a9b4f925088a')\"\n",
              "              title=\"Convert this dataframe to an interactive table.\"\n",
              "              style=\"display:none;\">\n",
              "        \n",
              "  <svg xmlns=\"http://www.w3.org/2000/svg\" height=\"24px\"viewBox=\"0 0 24 24\"\n",
              "       width=\"24px\">\n",
              "    <path d=\"M0 0h24v24H0V0z\" fill=\"none\"/>\n",
              "    <path d=\"M18.56 5.44l.94 2.06.94-2.06 2.06-.94-2.06-.94-.94-2.06-.94 2.06-2.06.94zm-11 1L8.5 8.5l.94-2.06 2.06-.94-2.06-.94L8.5 2.5l-.94 2.06-2.06.94zm10 10l.94 2.06.94-2.06 2.06-.94-2.06-.94-.94-2.06-.94 2.06-2.06.94z\"/><path d=\"M17.41 7.96l-1.37-1.37c-.4-.4-.92-.59-1.43-.59-.52 0-1.04.2-1.43.59L10.3 9.45l-7.72 7.72c-.78.78-.78 2.05 0 2.83L4 21.41c.39.39.9.59 1.41.59.51 0 1.02-.2 1.41-.59l7.78-7.78 2.81-2.81c.8-.78.8-2.07 0-2.86zM5.41 20L4 18.59l7.72-7.72 1.47 1.35L5.41 20z\"/>\n",
              "  </svg>\n",
              "      </button>\n",
              "      \n",
              "  <style>\n",
              "    .colab-df-container {\n",
              "      display:flex;\n",
              "      flex-wrap:wrap;\n",
              "      gap: 12px;\n",
              "    }\n",
              "\n",
              "    .colab-df-convert {\n",
              "      background-color: #E8F0FE;\n",
              "      border: none;\n",
              "      border-radius: 50%;\n",
              "      cursor: pointer;\n",
              "      display: none;\n",
              "      fill: #1967D2;\n",
              "      height: 32px;\n",
              "      padding: 0 0 0 0;\n",
              "      width: 32px;\n",
              "    }\n",
              "\n",
              "    .colab-df-convert:hover {\n",
              "      background-color: #E2EBFA;\n",
              "      box-shadow: 0px 1px 2px rgba(60, 64, 67, 0.3), 0px 1px 3px 1px rgba(60, 64, 67, 0.15);\n",
              "      fill: #174EA6;\n",
              "    }\n",
              "\n",
              "    [theme=dark] .colab-df-convert {\n",
              "      background-color: #3B4455;\n",
              "      fill: #D2E3FC;\n",
              "    }\n",
              "\n",
              "    [theme=dark] .colab-df-convert:hover {\n",
              "      background-color: #434B5C;\n",
              "      box-shadow: 0px 1px 3px 1px rgba(0, 0, 0, 0.15);\n",
              "      filter: drop-shadow(0px 1px 2px rgba(0, 0, 0, 0.3));\n",
              "      fill: #FFFFFF;\n",
              "    }\n",
              "  </style>\n",
              "\n",
              "      <script>\n",
              "        const buttonEl =\n",
              "          document.querySelector('#df-eb93ad79-f14e-4c23-aae0-a9b4f925088a button.colab-df-convert');\n",
              "        buttonEl.style.display =\n",
              "          google.colab.kernel.accessAllowed ? 'block' : 'none';\n",
              "\n",
              "        async function convertToInteractive(key) {\n",
              "          const element = document.querySelector('#df-eb93ad79-f14e-4c23-aae0-a9b4f925088a');\n",
              "          const dataTable =\n",
              "            await google.colab.kernel.invokeFunction('convertToInteractive',\n",
              "                                                     [key], {});\n",
              "          if (!dataTable) return;\n",
              "\n",
              "          const docLinkHtml = 'Like what you see? Visit the ' +\n",
              "            '<a target=\"_blank\" href=https://colab.research.google.com/notebooks/data_table.ipynb>data table notebook</a>'\n",
              "            + ' to learn more about interactive tables.';\n",
              "          element.innerHTML = '';\n",
              "          dataTable['output_type'] = 'display_data';\n",
              "          await google.colab.output.renderOutput(dataTable, element);\n",
              "          const docLink = document.createElement('div');\n",
              "          docLink.innerHTML = docLinkHtml;\n",
              "          element.appendChild(docLink);\n",
              "        }\n",
              "      </script>\n",
              "    </div>\n",
              "  </div>\n",
              "  "
            ]
          },
          "metadata": {},
          "execution_count": 7
        }
      ]
    },
    {
      "cell_type": "code",
      "source": [
        "# Agora pra segunda página\n",
        "pag2 = r.get('https://pt.wikipedia.org/wiki/Lista_de_munic%C3%ADpios_do_Brasil_por_PIB')\n",
        "response2 = pag2.content"
      ],
      "metadata": {
        "id": "1l-wASMVEzPA"
      },
      "execution_count": 8,
      "outputs": []
    },
    {
      "cell_type": "code",
      "source": [
        "# Beautiful Soup\n",
        "sopa2 = BeautifulSoup(response2, 'html.parser')\n",
        "tabela2 = sopa2.find('table', class_='wikitable sortable')"
      ],
      "metadata": {
        "id": "kxi7wlH5FQx-"
      },
      "execution_count": 9,
      "outputs": []
    },
    {
      "cell_type": "code",
      "source": [
        "# Agora definindo o data frame \n",
        "df2 = pd.read_html(str(tabela2))\n",
        "df2 = pd.concat(df2)"
      ],
      "metadata": {
        "id": "XzBQmUQlFsqP"
      },
      "execution_count": 10,
      "outputs": []
    },
    {
      "cell_type": "code",
      "source": [
        "df2.head()"
      ],
      "metadata": {
        "colab": {
          "base_uri": "https://localhost:8080/",
          "height": 206
        },
        "id": "uECLiRo9FvvB",
        "outputId": "ccb5c75b-10cd-4762-8e78-bc4a645b449d"
      },
      "execution_count": 11,
      "outputs": [
        {
          "output_type": "execute_result",
          "data": {
            "text/plain": [
              "   Posição Nome do Município Produto Interno Bruto (em R$ 1 000)  UF\n",
              "0        1         São Paulo                         699 288 352  SP\n",
              "1        2    Rio de Janeiro                         337 594 462  RJ\n",
              "2        3          Brasília                         244 682 756  DF\n",
              "3        4    Belo Horizonte                          88 951 168  MG\n",
              "4        5          Curitiba                          84 702 357  PR"
            ],
            "text/html": [
              "\n",
              "  <div id=\"df-23c8189f-2f72-4165-bc76-3f7756fbaef8\">\n",
              "    <div class=\"colab-df-container\">\n",
              "      <div>\n",
              "<style scoped>\n",
              "    .dataframe tbody tr th:only-of-type {\n",
              "        vertical-align: middle;\n",
              "    }\n",
              "\n",
              "    .dataframe tbody tr th {\n",
              "        vertical-align: top;\n",
              "    }\n",
              "\n",
              "    .dataframe thead th {\n",
              "        text-align: right;\n",
              "    }\n",
              "</style>\n",
              "<table border=\"1\" class=\"dataframe\">\n",
              "  <thead>\n",
              "    <tr style=\"text-align: right;\">\n",
              "      <th></th>\n",
              "      <th>Posição</th>\n",
              "      <th>Nome do Município</th>\n",
              "      <th>Produto Interno Bruto (em R$ 1 000)</th>\n",
              "      <th>UF</th>\n",
              "    </tr>\n",
              "  </thead>\n",
              "  <tbody>\n",
              "    <tr>\n",
              "      <th>0</th>\n",
              "      <td>1</td>\n",
              "      <td>São Paulo</td>\n",
              "      <td>699 288 352</td>\n",
              "      <td>SP</td>\n",
              "    </tr>\n",
              "    <tr>\n",
              "      <th>1</th>\n",
              "      <td>2</td>\n",
              "      <td>Rio de Janeiro</td>\n",
              "      <td>337 594 462</td>\n",
              "      <td>RJ</td>\n",
              "    </tr>\n",
              "    <tr>\n",
              "      <th>2</th>\n",
              "      <td>3</td>\n",
              "      <td>Brasília</td>\n",
              "      <td>244 682 756</td>\n",
              "      <td>DF</td>\n",
              "    </tr>\n",
              "    <tr>\n",
              "      <th>3</th>\n",
              "      <td>4</td>\n",
              "      <td>Belo Horizonte</td>\n",
              "      <td>88 951 168</td>\n",
              "      <td>MG</td>\n",
              "    </tr>\n",
              "    <tr>\n",
              "      <th>4</th>\n",
              "      <td>5</td>\n",
              "      <td>Curitiba</td>\n",
              "      <td>84 702 357</td>\n",
              "      <td>PR</td>\n",
              "    </tr>\n",
              "  </tbody>\n",
              "</table>\n",
              "</div>\n",
              "      <button class=\"colab-df-convert\" onclick=\"convertToInteractive('df-23c8189f-2f72-4165-bc76-3f7756fbaef8')\"\n",
              "              title=\"Convert this dataframe to an interactive table.\"\n",
              "              style=\"display:none;\">\n",
              "        \n",
              "  <svg xmlns=\"http://www.w3.org/2000/svg\" height=\"24px\"viewBox=\"0 0 24 24\"\n",
              "       width=\"24px\">\n",
              "    <path d=\"M0 0h24v24H0V0z\" fill=\"none\"/>\n",
              "    <path d=\"M18.56 5.44l.94 2.06.94-2.06 2.06-.94-2.06-.94-.94-2.06-.94 2.06-2.06.94zm-11 1L8.5 8.5l.94-2.06 2.06-.94-2.06-.94L8.5 2.5l-.94 2.06-2.06.94zm10 10l.94 2.06.94-2.06 2.06-.94-2.06-.94-.94-2.06-.94 2.06-2.06.94z\"/><path d=\"M17.41 7.96l-1.37-1.37c-.4-.4-.92-.59-1.43-.59-.52 0-1.04.2-1.43.59L10.3 9.45l-7.72 7.72c-.78.78-.78 2.05 0 2.83L4 21.41c.39.39.9.59 1.41.59.51 0 1.02-.2 1.41-.59l7.78-7.78 2.81-2.81c.8-.78.8-2.07 0-2.86zM5.41 20L4 18.59l7.72-7.72 1.47 1.35L5.41 20z\"/>\n",
              "  </svg>\n",
              "      </button>\n",
              "      \n",
              "  <style>\n",
              "    .colab-df-container {\n",
              "      display:flex;\n",
              "      flex-wrap:wrap;\n",
              "      gap: 12px;\n",
              "    }\n",
              "\n",
              "    .colab-df-convert {\n",
              "      background-color: #E8F0FE;\n",
              "      border: none;\n",
              "      border-radius: 50%;\n",
              "      cursor: pointer;\n",
              "      display: none;\n",
              "      fill: #1967D2;\n",
              "      height: 32px;\n",
              "      padding: 0 0 0 0;\n",
              "      width: 32px;\n",
              "    }\n",
              "\n",
              "    .colab-df-convert:hover {\n",
              "      background-color: #E2EBFA;\n",
              "      box-shadow: 0px 1px 2px rgba(60, 64, 67, 0.3), 0px 1px 3px 1px rgba(60, 64, 67, 0.15);\n",
              "      fill: #174EA6;\n",
              "    }\n",
              "\n",
              "    [theme=dark] .colab-df-convert {\n",
              "      background-color: #3B4455;\n",
              "      fill: #D2E3FC;\n",
              "    }\n",
              "\n",
              "    [theme=dark] .colab-df-convert:hover {\n",
              "      background-color: #434B5C;\n",
              "      box-shadow: 0px 1px 3px 1px rgba(0, 0, 0, 0.15);\n",
              "      filter: drop-shadow(0px 1px 2px rgba(0, 0, 0, 0.3));\n",
              "      fill: #FFFFFF;\n",
              "    }\n",
              "  </style>\n",
              "\n",
              "      <script>\n",
              "        const buttonEl =\n",
              "          document.querySelector('#df-23c8189f-2f72-4165-bc76-3f7756fbaef8 button.colab-df-convert');\n",
              "        buttonEl.style.display =\n",
              "          google.colab.kernel.accessAllowed ? 'block' : 'none';\n",
              "\n",
              "        async function convertToInteractive(key) {\n",
              "          const element = document.querySelector('#df-23c8189f-2f72-4165-bc76-3f7756fbaef8');\n",
              "          const dataTable =\n",
              "            await google.colab.kernel.invokeFunction('convertToInteractive',\n",
              "                                                     [key], {});\n",
              "          if (!dataTable) return;\n",
              "\n",
              "          const docLinkHtml = 'Like what you see? Visit the ' +\n",
              "            '<a target=\"_blank\" href=https://colab.research.google.com/notebooks/data_table.ipynb>data table notebook</a>'\n",
              "            + ' to learn more about interactive tables.';\n",
              "          element.innerHTML = '';\n",
              "          dataTable['output_type'] = 'display_data';\n",
              "          await google.colab.output.renderOutput(dataTable, element);\n",
              "          const docLink = document.createElement('div');\n",
              "          docLink.innerHTML = docLinkHtml;\n",
              "          element.appendChild(docLink);\n",
              "        }\n",
              "      </script>\n",
              "    </div>\n",
              "  </div>\n",
              "  "
            ]
          },
          "metadata": {},
          "execution_count": 11
        }
      ]
    },
    {
      "cell_type": "code",
      "source": [
        "df2.rename(columns={'Posição': 'posicao (pib)', 'Nome do Município': 'municipio',\n",
        "                    'Produto Interno Bruto (em R$ 1 000)': 'PIB(R$1000,00)'}, inplace=True)\n",
        "df2.drop('UF', axis = 1, inplace = True)\n",
        "df2.head()"
      ],
      "metadata": {
        "colab": {
          "base_uri": "https://localhost:8080/",
          "height": 206
        },
        "id": "F0o1Mj-EHjoA",
        "outputId": "3e7cfdc3-6fda-427b-f8a2-a59765b3fcfd"
      },
      "execution_count": 12,
      "outputs": [
        {
          "output_type": "execute_result",
          "data": {
            "text/plain": [
              "   posicao (pib)       municipio PIB(R$1000,00)\n",
              "0              1       São Paulo    699 288 352\n",
              "1              2  Rio de Janeiro    337 594 462\n",
              "2              3        Brasília    244 682 756\n",
              "3              4  Belo Horizonte     88 951 168\n",
              "4              5        Curitiba     84 702 357"
            ],
            "text/html": [
              "\n",
              "  <div id=\"df-7d095fdd-f084-4460-b7f2-bbb529ac6340\">\n",
              "    <div class=\"colab-df-container\">\n",
              "      <div>\n",
              "<style scoped>\n",
              "    .dataframe tbody tr th:only-of-type {\n",
              "        vertical-align: middle;\n",
              "    }\n",
              "\n",
              "    .dataframe tbody tr th {\n",
              "        vertical-align: top;\n",
              "    }\n",
              "\n",
              "    .dataframe thead th {\n",
              "        text-align: right;\n",
              "    }\n",
              "</style>\n",
              "<table border=\"1\" class=\"dataframe\">\n",
              "  <thead>\n",
              "    <tr style=\"text-align: right;\">\n",
              "      <th></th>\n",
              "      <th>posicao (pib)</th>\n",
              "      <th>municipio</th>\n",
              "      <th>PIB(R$1000,00)</th>\n",
              "    </tr>\n",
              "  </thead>\n",
              "  <tbody>\n",
              "    <tr>\n",
              "      <th>0</th>\n",
              "      <td>1</td>\n",
              "      <td>São Paulo</td>\n",
              "      <td>699 288 352</td>\n",
              "    </tr>\n",
              "    <tr>\n",
              "      <th>1</th>\n",
              "      <td>2</td>\n",
              "      <td>Rio de Janeiro</td>\n",
              "      <td>337 594 462</td>\n",
              "    </tr>\n",
              "    <tr>\n",
              "      <th>2</th>\n",
              "      <td>3</td>\n",
              "      <td>Brasília</td>\n",
              "      <td>244 682 756</td>\n",
              "    </tr>\n",
              "    <tr>\n",
              "      <th>3</th>\n",
              "      <td>4</td>\n",
              "      <td>Belo Horizonte</td>\n",
              "      <td>88 951 168</td>\n",
              "    </tr>\n",
              "    <tr>\n",
              "      <th>4</th>\n",
              "      <td>5</td>\n",
              "      <td>Curitiba</td>\n",
              "      <td>84 702 357</td>\n",
              "    </tr>\n",
              "  </tbody>\n",
              "</table>\n",
              "</div>\n",
              "      <button class=\"colab-df-convert\" onclick=\"convertToInteractive('df-7d095fdd-f084-4460-b7f2-bbb529ac6340')\"\n",
              "              title=\"Convert this dataframe to an interactive table.\"\n",
              "              style=\"display:none;\">\n",
              "        \n",
              "  <svg xmlns=\"http://www.w3.org/2000/svg\" height=\"24px\"viewBox=\"0 0 24 24\"\n",
              "       width=\"24px\">\n",
              "    <path d=\"M0 0h24v24H0V0z\" fill=\"none\"/>\n",
              "    <path d=\"M18.56 5.44l.94 2.06.94-2.06 2.06-.94-2.06-.94-.94-2.06-.94 2.06-2.06.94zm-11 1L8.5 8.5l.94-2.06 2.06-.94-2.06-.94L8.5 2.5l-.94 2.06-2.06.94zm10 10l.94 2.06.94-2.06 2.06-.94-2.06-.94-.94-2.06-.94 2.06-2.06.94z\"/><path d=\"M17.41 7.96l-1.37-1.37c-.4-.4-.92-.59-1.43-.59-.52 0-1.04.2-1.43.59L10.3 9.45l-7.72 7.72c-.78.78-.78 2.05 0 2.83L4 21.41c.39.39.9.59 1.41.59.51 0 1.02-.2 1.41-.59l7.78-7.78 2.81-2.81c.8-.78.8-2.07 0-2.86zM5.41 20L4 18.59l7.72-7.72 1.47 1.35L5.41 20z\"/>\n",
              "  </svg>\n",
              "      </button>\n",
              "      \n",
              "  <style>\n",
              "    .colab-df-container {\n",
              "      display:flex;\n",
              "      flex-wrap:wrap;\n",
              "      gap: 12px;\n",
              "    }\n",
              "\n",
              "    .colab-df-convert {\n",
              "      background-color: #E8F0FE;\n",
              "      border: none;\n",
              "      border-radius: 50%;\n",
              "      cursor: pointer;\n",
              "      display: none;\n",
              "      fill: #1967D2;\n",
              "      height: 32px;\n",
              "      padding: 0 0 0 0;\n",
              "      width: 32px;\n",
              "    }\n",
              "\n",
              "    .colab-df-convert:hover {\n",
              "      background-color: #E2EBFA;\n",
              "      box-shadow: 0px 1px 2px rgba(60, 64, 67, 0.3), 0px 1px 3px 1px rgba(60, 64, 67, 0.15);\n",
              "      fill: #174EA6;\n",
              "    }\n",
              "\n",
              "    [theme=dark] .colab-df-convert {\n",
              "      background-color: #3B4455;\n",
              "      fill: #D2E3FC;\n",
              "    }\n",
              "\n",
              "    [theme=dark] .colab-df-convert:hover {\n",
              "      background-color: #434B5C;\n",
              "      box-shadow: 0px 1px 3px 1px rgba(0, 0, 0, 0.15);\n",
              "      filter: drop-shadow(0px 1px 2px rgba(0, 0, 0, 0.3));\n",
              "      fill: #FFFFFF;\n",
              "    }\n",
              "  </style>\n",
              "\n",
              "      <script>\n",
              "        const buttonEl =\n",
              "          document.querySelector('#df-7d095fdd-f084-4460-b7f2-bbb529ac6340 button.colab-df-convert');\n",
              "        buttonEl.style.display =\n",
              "          google.colab.kernel.accessAllowed ? 'block' : 'none';\n",
              "\n",
              "        async function convertToInteractive(key) {\n",
              "          const element = document.querySelector('#df-7d095fdd-f084-4460-b7f2-bbb529ac6340');\n",
              "          const dataTable =\n",
              "            await google.colab.kernel.invokeFunction('convertToInteractive',\n",
              "                                                     [key], {});\n",
              "          if (!dataTable) return;\n",
              "\n",
              "          const docLinkHtml = 'Like what you see? Visit the ' +\n",
              "            '<a target=\"_blank\" href=https://colab.research.google.com/notebooks/data_table.ipynb>data table notebook</a>'\n",
              "            + ' to learn more about interactive tables.';\n",
              "          element.innerHTML = '';\n",
              "          dataTable['output_type'] = 'display_data';\n",
              "          await google.colab.output.renderOutput(dataTable, element);\n",
              "          const docLink = document.createElement('div');\n",
              "          docLink.innerHTML = docLinkHtml;\n",
              "          element.appendChild(docLink);\n",
              "        }\n",
              "      </script>\n",
              "    </div>\n",
              "  </div>\n",
              "  "
            ]
          },
          "metadata": {},
          "execution_count": 12
        }
      ]
    },
    {
      "cell_type": "code",
      "source": [
        "# Juntando os dataframes\n",
        "dfFinal = pd.merge(df1, df2, on=\"municipio\")\n",
        "dfFinal.head()"
      ],
      "metadata": {
        "colab": {
          "base_uri": "https://localhost:8080/",
          "height": 206
        },
        "id": "xBm7MZinJZRm",
        "outputId": "e288fc6c-369d-4c86-fa50-74f64b315356"
      },
      "execution_count": 13,
      "outputs": [
        {
          "output_type": "execute_result",
          "data": {
            "text/plain": [
              "  posicao (populacao)       municipio   populacao  posicao (pib)  \\\n",
              "0                  1º       São Paulo  12 396 372              1   \n",
              "1                  2º  Rio de Janeiro   6 775 561              2   \n",
              "2                  3º        Brasília   3 094 325              3   \n",
              "3                  4º        Salvador   2 900 319              9   \n",
              "4                  5º       Fortaleza   2 703 391             10   \n",
              "\n",
              "  PIB(R$1000,00)  \n",
              "0    699 288 352  \n",
              "1    337 594 462  \n",
              "2    244 682 756  \n",
              "3     62 717 483  \n",
              "4     61 579 403  "
            ],
            "text/html": [
              "\n",
              "  <div id=\"df-56ca8bce-54d5-4f2e-8bb1-290e732c7e22\">\n",
              "    <div class=\"colab-df-container\">\n",
              "      <div>\n",
              "<style scoped>\n",
              "    .dataframe tbody tr th:only-of-type {\n",
              "        vertical-align: middle;\n",
              "    }\n",
              "\n",
              "    .dataframe tbody tr th {\n",
              "        vertical-align: top;\n",
              "    }\n",
              "\n",
              "    .dataframe thead th {\n",
              "        text-align: right;\n",
              "    }\n",
              "</style>\n",
              "<table border=\"1\" class=\"dataframe\">\n",
              "  <thead>\n",
              "    <tr style=\"text-align: right;\">\n",
              "      <th></th>\n",
              "      <th>posicao (populacao)</th>\n",
              "      <th>municipio</th>\n",
              "      <th>populacao</th>\n",
              "      <th>posicao (pib)</th>\n",
              "      <th>PIB(R$1000,00)</th>\n",
              "    </tr>\n",
              "  </thead>\n",
              "  <tbody>\n",
              "    <tr>\n",
              "      <th>0</th>\n",
              "      <td>1º</td>\n",
              "      <td>São Paulo</td>\n",
              "      <td>12 396 372</td>\n",
              "      <td>1</td>\n",
              "      <td>699 288 352</td>\n",
              "    </tr>\n",
              "    <tr>\n",
              "      <th>1</th>\n",
              "      <td>2º</td>\n",
              "      <td>Rio de Janeiro</td>\n",
              "      <td>6 775 561</td>\n",
              "      <td>2</td>\n",
              "      <td>337 594 462</td>\n",
              "    </tr>\n",
              "    <tr>\n",
              "      <th>2</th>\n",
              "      <td>3º</td>\n",
              "      <td>Brasília</td>\n",
              "      <td>3 094 325</td>\n",
              "      <td>3</td>\n",
              "      <td>244 682 756</td>\n",
              "    </tr>\n",
              "    <tr>\n",
              "      <th>3</th>\n",
              "      <td>4º</td>\n",
              "      <td>Salvador</td>\n",
              "      <td>2 900 319</td>\n",
              "      <td>9</td>\n",
              "      <td>62 717 483</td>\n",
              "    </tr>\n",
              "    <tr>\n",
              "      <th>4</th>\n",
              "      <td>5º</td>\n",
              "      <td>Fortaleza</td>\n",
              "      <td>2 703 391</td>\n",
              "      <td>10</td>\n",
              "      <td>61 579 403</td>\n",
              "    </tr>\n",
              "  </tbody>\n",
              "</table>\n",
              "</div>\n",
              "      <button class=\"colab-df-convert\" onclick=\"convertToInteractive('df-56ca8bce-54d5-4f2e-8bb1-290e732c7e22')\"\n",
              "              title=\"Convert this dataframe to an interactive table.\"\n",
              "              style=\"display:none;\">\n",
              "        \n",
              "  <svg xmlns=\"http://www.w3.org/2000/svg\" height=\"24px\"viewBox=\"0 0 24 24\"\n",
              "       width=\"24px\">\n",
              "    <path d=\"M0 0h24v24H0V0z\" fill=\"none\"/>\n",
              "    <path d=\"M18.56 5.44l.94 2.06.94-2.06 2.06-.94-2.06-.94-.94-2.06-.94 2.06-2.06.94zm-11 1L8.5 8.5l.94-2.06 2.06-.94-2.06-.94L8.5 2.5l-.94 2.06-2.06.94zm10 10l.94 2.06.94-2.06 2.06-.94-2.06-.94-.94-2.06-.94 2.06-2.06.94z\"/><path d=\"M17.41 7.96l-1.37-1.37c-.4-.4-.92-.59-1.43-.59-.52 0-1.04.2-1.43.59L10.3 9.45l-7.72 7.72c-.78.78-.78 2.05 0 2.83L4 21.41c.39.39.9.59 1.41.59.51 0 1.02-.2 1.41-.59l7.78-7.78 2.81-2.81c.8-.78.8-2.07 0-2.86zM5.41 20L4 18.59l7.72-7.72 1.47 1.35L5.41 20z\"/>\n",
              "  </svg>\n",
              "      </button>\n",
              "      \n",
              "  <style>\n",
              "    .colab-df-container {\n",
              "      display:flex;\n",
              "      flex-wrap:wrap;\n",
              "      gap: 12px;\n",
              "    }\n",
              "\n",
              "    .colab-df-convert {\n",
              "      background-color: #E8F0FE;\n",
              "      border: none;\n",
              "      border-radius: 50%;\n",
              "      cursor: pointer;\n",
              "      display: none;\n",
              "      fill: #1967D2;\n",
              "      height: 32px;\n",
              "      padding: 0 0 0 0;\n",
              "      width: 32px;\n",
              "    }\n",
              "\n",
              "    .colab-df-convert:hover {\n",
              "      background-color: #E2EBFA;\n",
              "      box-shadow: 0px 1px 2px rgba(60, 64, 67, 0.3), 0px 1px 3px 1px rgba(60, 64, 67, 0.15);\n",
              "      fill: #174EA6;\n",
              "    }\n",
              "\n",
              "    [theme=dark] .colab-df-convert {\n",
              "      background-color: #3B4455;\n",
              "      fill: #D2E3FC;\n",
              "    }\n",
              "\n",
              "    [theme=dark] .colab-df-convert:hover {\n",
              "      background-color: #434B5C;\n",
              "      box-shadow: 0px 1px 3px 1px rgba(0, 0, 0, 0.15);\n",
              "      filter: drop-shadow(0px 1px 2px rgba(0, 0, 0, 0.3));\n",
              "      fill: #FFFFFF;\n",
              "    }\n",
              "  </style>\n",
              "\n",
              "      <script>\n",
              "        const buttonEl =\n",
              "          document.querySelector('#df-56ca8bce-54d5-4f2e-8bb1-290e732c7e22 button.colab-df-convert');\n",
              "        buttonEl.style.display =\n",
              "          google.colab.kernel.accessAllowed ? 'block' : 'none';\n",
              "\n",
              "        async function convertToInteractive(key) {\n",
              "          const element = document.querySelector('#df-56ca8bce-54d5-4f2e-8bb1-290e732c7e22');\n",
              "          const dataTable =\n",
              "            await google.colab.kernel.invokeFunction('convertToInteractive',\n",
              "                                                     [key], {});\n",
              "          if (!dataTable) return;\n",
              "\n",
              "          const docLinkHtml = 'Like what you see? Visit the ' +\n",
              "            '<a target=\"_blank\" href=https://colab.research.google.com/notebooks/data_table.ipynb>data table notebook</a>'\n",
              "            + ' to learn more about interactive tables.';\n",
              "          element.innerHTML = '';\n",
              "          dataTable['output_type'] = 'display_data';\n",
              "          await google.colab.output.renderOutput(dataTable, element);\n",
              "          const docLink = document.createElement('div');\n",
              "          docLink.innerHTML = docLinkHtml;\n",
              "          element.appendChild(docLink);\n",
              "        }\n",
              "      </script>\n",
              "    </div>\n",
              "  </div>\n",
              "  "
            ]
          },
          "metadata": {},
          "execution_count": 13
        }
      ]
    },
    {
      "cell_type": "code",
      "source": [
        "dfFinal.info() # as colunas esão no formato de caracter"
      ],
      "metadata": {
        "colab": {
          "base_uri": "https://localhost:8080/"
        },
        "id": "E_YsJXtwPCoq",
        "outputId": "798db686-3a62-498a-f98e-3f75bd558bd7"
      },
      "execution_count": 14,
      "outputs": [
        {
          "output_type": "stream",
          "name": "stdout",
          "text": [
            "<class 'pandas.core.frame.DataFrame'>\n",
            "Int64Index: 6157 entries, 0 to 6156\n",
            "Data columns (total 5 columns):\n",
            " #   Column               Non-Null Count  Dtype \n",
            "---  ------               --------------  ----- \n",
            " 0   posicao (populacao)  6157 non-null   object\n",
            " 1   municipio            6157 non-null   object\n",
            " 2   populacao            6157 non-null   object\n",
            " 3   posicao (pib)        6157 non-null   int64 \n",
            " 4   PIB(R$1000,00)       6157 non-null   object\n",
            "dtypes: int64(1), object(4)\n",
            "memory usage: 288.6+ KB\n"
          ]
        }
      ]
    },
    {
      "cell_type": "code",
      "source": [
        "# Transformando a coluna posicao(pib) em int\n",
        "dfFinal['posicao (populacao)'] = pd.Series([x[0].replace('º', '') if x[0] != '–' else None for x in dfFinal['posicao (populacao)'].str.split()]).astype(int)"
      ],
      "metadata": {
        "id": "O6Fl10M3rjsS"
      },
      "execution_count": 15,
      "outputs": []
    },
    {
      "cell_type": "code",
      "source": [
        "# Transformando a coluna população\n",
        "dfFinal['populacao'] = dfFinal['populacao'].astype(str).str.replace('\\s+', '').replace('nan', np.nan)\n",
        "dfFinal['populacao'] = pd.to_numeric(dfFinal['populacao'])\n",
        "dfFinal.head()"
      ],
      "metadata": {
        "colab": {
          "base_uri": "https://localhost:8080/",
          "height": 241
        },
        "id": "fInj5eT0mUE1",
        "outputId": "54c6420e-4f4e-4987-a2ce-eba0caf0991e"
      },
      "execution_count": 16,
      "outputs": [
        {
          "output_type": "stream",
          "name": "stderr",
          "text": [
            "/usr/local/lib/python3.7/dist-packages/ipykernel_launcher.py:2: FutureWarning: The default value of regex will change from True to False in a future version.\n",
            "  \n"
          ]
        },
        {
          "output_type": "execute_result",
          "data": {
            "text/plain": [
              "   posicao (populacao)       municipio  populacao  posicao (pib)  \\\n",
              "0                    1       São Paulo   12396372              1   \n",
              "1                    2  Rio de Janeiro    6775561              2   \n",
              "2                    3        Brasília    3094325              3   \n",
              "3                    4        Salvador    2900319              9   \n",
              "4                    5       Fortaleza    2703391             10   \n",
              "\n",
              "  PIB(R$1000,00)  \n",
              "0    699 288 352  \n",
              "1    337 594 462  \n",
              "2    244 682 756  \n",
              "3     62 717 483  \n",
              "4     61 579 403  "
            ],
            "text/html": [
              "\n",
              "  <div id=\"df-876d1ba6-d7e7-4f4d-a743-5bc824e56395\">\n",
              "    <div class=\"colab-df-container\">\n",
              "      <div>\n",
              "<style scoped>\n",
              "    .dataframe tbody tr th:only-of-type {\n",
              "        vertical-align: middle;\n",
              "    }\n",
              "\n",
              "    .dataframe tbody tr th {\n",
              "        vertical-align: top;\n",
              "    }\n",
              "\n",
              "    .dataframe thead th {\n",
              "        text-align: right;\n",
              "    }\n",
              "</style>\n",
              "<table border=\"1\" class=\"dataframe\">\n",
              "  <thead>\n",
              "    <tr style=\"text-align: right;\">\n",
              "      <th></th>\n",
              "      <th>posicao (populacao)</th>\n",
              "      <th>municipio</th>\n",
              "      <th>populacao</th>\n",
              "      <th>posicao (pib)</th>\n",
              "      <th>PIB(R$1000,00)</th>\n",
              "    </tr>\n",
              "  </thead>\n",
              "  <tbody>\n",
              "    <tr>\n",
              "      <th>0</th>\n",
              "      <td>1</td>\n",
              "      <td>São Paulo</td>\n",
              "      <td>12396372</td>\n",
              "      <td>1</td>\n",
              "      <td>699 288 352</td>\n",
              "    </tr>\n",
              "    <tr>\n",
              "      <th>1</th>\n",
              "      <td>2</td>\n",
              "      <td>Rio de Janeiro</td>\n",
              "      <td>6775561</td>\n",
              "      <td>2</td>\n",
              "      <td>337 594 462</td>\n",
              "    </tr>\n",
              "    <tr>\n",
              "      <th>2</th>\n",
              "      <td>3</td>\n",
              "      <td>Brasília</td>\n",
              "      <td>3094325</td>\n",
              "      <td>3</td>\n",
              "      <td>244 682 756</td>\n",
              "    </tr>\n",
              "    <tr>\n",
              "      <th>3</th>\n",
              "      <td>4</td>\n",
              "      <td>Salvador</td>\n",
              "      <td>2900319</td>\n",
              "      <td>9</td>\n",
              "      <td>62 717 483</td>\n",
              "    </tr>\n",
              "    <tr>\n",
              "      <th>4</th>\n",
              "      <td>5</td>\n",
              "      <td>Fortaleza</td>\n",
              "      <td>2703391</td>\n",
              "      <td>10</td>\n",
              "      <td>61 579 403</td>\n",
              "    </tr>\n",
              "  </tbody>\n",
              "</table>\n",
              "</div>\n",
              "      <button class=\"colab-df-convert\" onclick=\"convertToInteractive('df-876d1ba6-d7e7-4f4d-a743-5bc824e56395')\"\n",
              "              title=\"Convert this dataframe to an interactive table.\"\n",
              "              style=\"display:none;\">\n",
              "        \n",
              "  <svg xmlns=\"http://www.w3.org/2000/svg\" height=\"24px\"viewBox=\"0 0 24 24\"\n",
              "       width=\"24px\">\n",
              "    <path d=\"M0 0h24v24H0V0z\" fill=\"none\"/>\n",
              "    <path d=\"M18.56 5.44l.94 2.06.94-2.06 2.06-.94-2.06-.94-.94-2.06-.94 2.06-2.06.94zm-11 1L8.5 8.5l.94-2.06 2.06-.94-2.06-.94L8.5 2.5l-.94 2.06-2.06.94zm10 10l.94 2.06.94-2.06 2.06-.94-2.06-.94-.94-2.06-.94 2.06-2.06.94z\"/><path d=\"M17.41 7.96l-1.37-1.37c-.4-.4-.92-.59-1.43-.59-.52 0-1.04.2-1.43.59L10.3 9.45l-7.72 7.72c-.78.78-.78 2.05 0 2.83L4 21.41c.39.39.9.59 1.41.59.51 0 1.02-.2 1.41-.59l7.78-7.78 2.81-2.81c.8-.78.8-2.07 0-2.86zM5.41 20L4 18.59l7.72-7.72 1.47 1.35L5.41 20z\"/>\n",
              "  </svg>\n",
              "      </button>\n",
              "      \n",
              "  <style>\n",
              "    .colab-df-container {\n",
              "      display:flex;\n",
              "      flex-wrap:wrap;\n",
              "      gap: 12px;\n",
              "    }\n",
              "\n",
              "    .colab-df-convert {\n",
              "      background-color: #E8F0FE;\n",
              "      border: none;\n",
              "      border-radius: 50%;\n",
              "      cursor: pointer;\n",
              "      display: none;\n",
              "      fill: #1967D2;\n",
              "      height: 32px;\n",
              "      padding: 0 0 0 0;\n",
              "      width: 32px;\n",
              "    }\n",
              "\n",
              "    .colab-df-convert:hover {\n",
              "      background-color: #E2EBFA;\n",
              "      box-shadow: 0px 1px 2px rgba(60, 64, 67, 0.3), 0px 1px 3px 1px rgba(60, 64, 67, 0.15);\n",
              "      fill: #174EA6;\n",
              "    }\n",
              "\n",
              "    [theme=dark] .colab-df-convert {\n",
              "      background-color: #3B4455;\n",
              "      fill: #D2E3FC;\n",
              "    }\n",
              "\n",
              "    [theme=dark] .colab-df-convert:hover {\n",
              "      background-color: #434B5C;\n",
              "      box-shadow: 0px 1px 3px 1px rgba(0, 0, 0, 0.15);\n",
              "      filter: drop-shadow(0px 1px 2px rgba(0, 0, 0, 0.3));\n",
              "      fill: #FFFFFF;\n",
              "    }\n",
              "  </style>\n",
              "\n",
              "      <script>\n",
              "        const buttonEl =\n",
              "          document.querySelector('#df-876d1ba6-d7e7-4f4d-a743-5bc824e56395 button.colab-df-convert');\n",
              "        buttonEl.style.display =\n",
              "          google.colab.kernel.accessAllowed ? 'block' : 'none';\n",
              "\n",
              "        async function convertToInteractive(key) {\n",
              "          const element = document.querySelector('#df-876d1ba6-d7e7-4f4d-a743-5bc824e56395');\n",
              "          const dataTable =\n",
              "            await google.colab.kernel.invokeFunction('convertToInteractive',\n",
              "                                                     [key], {});\n",
              "          if (!dataTable) return;\n",
              "\n",
              "          const docLinkHtml = 'Like what you see? Visit the ' +\n",
              "            '<a target=\"_blank\" href=https://colab.research.google.com/notebooks/data_table.ipynb>data table notebook</a>'\n",
              "            + ' to learn more about interactive tables.';\n",
              "          element.innerHTML = '';\n",
              "          dataTable['output_type'] = 'display_data';\n",
              "          await google.colab.output.renderOutput(dataTable, element);\n",
              "          const docLink = document.createElement('div');\n",
              "          docLink.innerHTML = docLinkHtml;\n",
              "          element.appendChild(docLink);\n",
              "        }\n",
              "      </script>\n",
              "    </div>\n",
              "  </div>\n",
              "  "
            ]
          },
          "metadata": {},
          "execution_count": 16
        }
      ]
    },
    {
      "cell_type": "code",
      "source": [
        "# PIB\n",
        "dfFinal['PIB(R$1000,00)'] = dfFinal['PIB(R$1000,00)'].astype(str).str.replace('\\s+', '').replace('nan', np.nan)\n",
        "dfFinal['PIB(R$1000,00)'] = pd.to_numeric(dfFinal['PIB(R$1000,00)'])"
      ],
      "metadata": {
        "id": "OHpRr7nO0H3r",
        "colab": {
          "base_uri": "https://localhost:8080/"
        },
        "outputId": "df41011f-b72b-42b5-c579-8bd50e02aaaa"
      },
      "execution_count": 17,
      "outputs": [
        {
          "output_type": "stream",
          "name": "stderr",
          "text": [
            "/usr/local/lib/python3.7/dist-packages/ipykernel_launcher.py:2: FutureWarning: The default value of regex will change from True to False in a future version.\n",
            "  \n"
          ]
        }
      ]
    },
    {
      "cell_type": "code",
      "source": [
        "dfFinal.info()"
      ],
      "metadata": {
        "colab": {
          "base_uri": "https://localhost:8080/"
        },
        "id": "bFoN0HabroiJ",
        "outputId": "bd6aac3d-4b88-4b8f-fbe9-34c8af06b88f"
      },
      "execution_count": 18,
      "outputs": [
        {
          "output_type": "stream",
          "name": "stdout",
          "text": [
            "<class 'pandas.core.frame.DataFrame'>\n",
            "Int64Index: 6157 entries, 0 to 6156\n",
            "Data columns (total 5 columns):\n",
            " #   Column               Non-Null Count  Dtype \n",
            "---  ------               --------------  ----- \n",
            " 0   posicao (populacao)  6157 non-null   int64 \n",
            " 1   municipio            6157 non-null   object\n",
            " 2   populacao            6157 non-null   int64 \n",
            " 3   posicao (pib)        6157 non-null   int64 \n",
            " 4   PIB(R$1000,00)       6157 non-null   int64 \n",
            "dtypes: int64(4), object(1)\n",
            "memory usage: 288.6+ KB\n"
          ]
        }
      ]
    },
    {
      "cell_type": "code",
      "source": [
        "# Ordenando os dados\n",
        "dfFinal.sort_values(by=['PIB(R$1000,00)'])"
      ],
      "metadata": {
        "id": "LuDcFWy1w1Gb",
        "outputId": "0ea6befc-fc6e-44fe-8b75-b89866acf4e9",
        "colab": {
          "base_uri": "https://localhost:8080/",
          "height": 424
        }
      },
      "execution_count": 19,
      "outputs": [
        {
          "output_type": "execute_result",
          "data": {
            "text/plain": [
              "      posicao (populacao)                   municipio  populacao  \\\n",
              "5996                 5394  Santo Antônio dos Milagres       2172   \n",
              "6146                 5560                 Miguel Leão       1239   \n",
              "579                   417                      Viçosa      79910   \n",
              "582                  1399                      Viçosa      25655   \n",
              "585                  5498                      Viçosa       1731   \n",
              "...                   ...                         ...        ...   \n",
              "7                       8                    Curitiba    1963726   \n",
              "5                       6              Belo Horizonte    2530701   \n",
              "2                       3                    Brasília    3094325   \n",
              "1                       2              Rio de Janeiro    6775561   \n",
              "0                       1                   São Paulo   12396372   \n",
              "\n",
              "      posicao (pib)  PIB(R$1000,00)  \n",
              "5996           5570           12993  \n",
              "6146           5569           14725  \n",
              "579            5568           15769  \n",
              "582            5568           15769  \n",
              "585            5568           15769  \n",
              "...             ...             ...  \n",
              "7                 5        84702357  \n",
              "5                 4        88951168  \n",
              "2                 3       244682756  \n",
              "1                 2       337594462  \n",
              "0                 1       699288352  \n",
              "\n",
              "[6157 rows x 5 columns]"
            ],
            "text/html": [
              "\n",
              "  <div id=\"df-62ccb17b-58a1-486b-9c62-3a1e320e4945\">\n",
              "    <div class=\"colab-df-container\">\n",
              "      <div>\n",
              "<style scoped>\n",
              "    .dataframe tbody tr th:only-of-type {\n",
              "        vertical-align: middle;\n",
              "    }\n",
              "\n",
              "    .dataframe tbody tr th {\n",
              "        vertical-align: top;\n",
              "    }\n",
              "\n",
              "    .dataframe thead th {\n",
              "        text-align: right;\n",
              "    }\n",
              "</style>\n",
              "<table border=\"1\" class=\"dataframe\">\n",
              "  <thead>\n",
              "    <tr style=\"text-align: right;\">\n",
              "      <th></th>\n",
              "      <th>posicao (populacao)</th>\n",
              "      <th>municipio</th>\n",
              "      <th>populacao</th>\n",
              "      <th>posicao (pib)</th>\n",
              "      <th>PIB(R$1000,00)</th>\n",
              "    </tr>\n",
              "  </thead>\n",
              "  <tbody>\n",
              "    <tr>\n",
              "      <th>5996</th>\n",
              "      <td>5394</td>\n",
              "      <td>Santo Antônio dos Milagres</td>\n",
              "      <td>2172</td>\n",
              "      <td>5570</td>\n",
              "      <td>12993</td>\n",
              "    </tr>\n",
              "    <tr>\n",
              "      <th>6146</th>\n",
              "      <td>5560</td>\n",
              "      <td>Miguel Leão</td>\n",
              "      <td>1239</td>\n",
              "      <td>5569</td>\n",
              "      <td>14725</td>\n",
              "    </tr>\n",
              "    <tr>\n",
              "      <th>579</th>\n",
              "      <td>417</td>\n",
              "      <td>Viçosa</td>\n",
              "      <td>79910</td>\n",
              "      <td>5568</td>\n",
              "      <td>15769</td>\n",
              "    </tr>\n",
              "    <tr>\n",
              "      <th>582</th>\n",
              "      <td>1399</td>\n",
              "      <td>Viçosa</td>\n",
              "      <td>25655</td>\n",
              "      <td>5568</td>\n",
              "      <td>15769</td>\n",
              "    </tr>\n",
              "    <tr>\n",
              "      <th>585</th>\n",
              "      <td>5498</td>\n",
              "      <td>Viçosa</td>\n",
              "      <td>1731</td>\n",
              "      <td>5568</td>\n",
              "      <td>15769</td>\n",
              "    </tr>\n",
              "    <tr>\n",
              "      <th>...</th>\n",
              "      <td>...</td>\n",
              "      <td>...</td>\n",
              "      <td>...</td>\n",
              "      <td>...</td>\n",
              "      <td>...</td>\n",
              "    </tr>\n",
              "    <tr>\n",
              "      <th>7</th>\n",
              "      <td>8</td>\n",
              "      <td>Curitiba</td>\n",
              "      <td>1963726</td>\n",
              "      <td>5</td>\n",
              "      <td>84702357</td>\n",
              "    </tr>\n",
              "    <tr>\n",
              "      <th>5</th>\n",
              "      <td>6</td>\n",
              "      <td>Belo Horizonte</td>\n",
              "      <td>2530701</td>\n",
              "      <td>4</td>\n",
              "      <td>88951168</td>\n",
              "    </tr>\n",
              "    <tr>\n",
              "      <th>2</th>\n",
              "      <td>3</td>\n",
              "      <td>Brasília</td>\n",
              "      <td>3094325</td>\n",
              "      <td>3</td>\n",
              "      <td>244682756</td>\n",
              "    </tr>\n",
              "    <tr>\n",
              "      <th>1</th>\n",
              "      <td>2</td>\n",
              "      <td>Rio de Janeiro</td>\n",
              "      <td>6775561</td>\n",
              "      <td>2</td>\n",
              "      <td>337594462</td>\n",
              "    </tr>\n",
              "    <tr>\n",
              "      <th>0</th>\n",
              "      <td>1</td>\n",
              "      <td>São Paulo</td>\n",
              "      <td>12396372</td>\n",
              "      <td>1</td>\n",
              "      <td>699288352</td>\n",
              "    </tr>\n",
              "  </tbody>\n",
              "</table>\n",
              "<p>6157 rows × 5 columns</p>\n",
              "</div>\n",
              "      <button class=\"colab-df-convert\" onclick=\"convertToInteractive('df-62ccb17b-58a1-486b-9c62-3a1e320e4945')\"\n",
              "              title=\"Convert this dataframe to an interactive table.\"\n",
              "              style=\"display:none;\">\n",
              "        \n",
              "  <svg xmlns=\"http://www.w3.org/2000/svg\" height=\"24px\"viewBox=\"0 0 24 24\"\n",
              "       width=\"24px\">\n",
              "    <path d=\"M0 0h24v24H0V0z\" fill=\"none\"/>\n",
              "    <path d=\"M18.56 5.44l.94 2.06.94-2.06 2.06-.94-2.06-.94-.94-2.06-.94 2.06-2.06.94zm-11 1L8.5 8.5l.94-2.06 2.06-.94-2.06-.94L8.5 2.5l-.94 2.06-2.06.94zm10 10l.94 2.06.94-2.06 2.06-.94-2.06-.94-.94-2.06-.94 2.06-2.06.94z\"/><path d=\"M17.41 7.96l-1.37-1.37c-.4-.4-.92-.59-1.43-.59-.52 0-1.04.2-1.43.59L10.3 9.45l-7.72 7.72c-.78.78-.78 2.05 0 2.83L4 21.41c.39.39.9.59 1.41.59.51 0 1.02-.2 1.41-.59l7.78-7.78 2.81-2.81c.8-.78.8-2.07 0-2.86zM5.41 20L4 18.59l7.72-7.72 1.47 1.35L5.41 20z\"/>\n",
              "  </svg>\n",
              "      </button>\n",
              "      \n",
              "  <style>\n",
              "    .colab-df-container {\n",
              "      display:flex;\n",
              "      flex-wrap:wrap;\n",
              "      gap: 12px;\n",
              "    }\n",
              "\n",
              "    .colab-df-convert {\n",
              "      background-color: #E8F0FE;\n",
              "      border: none;\n",
              "      border-radius: 50%;\n",
              "      cursor: pointer;\n",
              "      display: none;\n",
              "      fill: #1967D2;\n",
              "      height: 32px;\n",
              "      padding: 0 0 0 0;\n",
              "      width: 32px;\n",
              "    }\n",
              "\n",
              "    .colab-df-convert:hover {\n",
              "      background-color: #E2EBFA;\n",
              "      box-shadow: 0px 1px 2px rgba(60, 64, 67, 0.3), 0px 1px 3px 1px rgba(60, 64, 67, 0.15);\n",
              "      fill: #174EA6;\n",
              "    }\n",
              "\n",
              "    [theme=dark] .colab-df-convert {\n",
              "      background-color: #3B4455;\n",
              "      fill: #D2E3FC;\n",
              "    }\n",
              "\n",
              "    [theme=dark] .colab-df-convert:hover {\n",
              "      background-color: #434B5C;\n",
              "      box-shadow: 0px 1px 3px 1px rgba(0, 0, 0, 0.15);\n",
              "      filter: drop-shadow(0px 1px 2px rgba(0, 0, 0, 0.3));\n",
              "      fill: #FFFFFF;\n",
              "    }\n",
              "  </style>\n",
              "\n",
              "      <script>\n",
              "        const buttonEl =\n",
              "          document.querySelector('#df-62ccb17b-58a1-486b-9c62-3a1e320e4945 button.colab-df-convert');\n",
              "        buttonEl.style.display =\n",
              "          google.colab.kernel.accessAllowed ? 'block' : 'none';\n",
              "\n",
              "        async function convertToInteractive(key) {\n",
              "          const element = document.querySelector('#df-62ccb17b-58a1-486b-9c62-3a1e320e4945');\n",
              "          const dataTable =\n",
              "            await google.colab.kernel.invokeFunction('convertToInteractive',\n",
              "                                                     [key], {});\n",
              "          if (!dataTable) return;\n",
              "\n",
              "          const docLinkHtml = 'Like what you see? Visit the ' +\n",
              "            '<a target=\"_blank\" href=https://colab.research.google.com/notebooks/data_table.ipynb>data table notebook</a>'\n",
              "            + ' to learn more about interactive tables.';\n",
              "          element.innerHTML = '';\n",
              "          dataTable['output_type'] = 'display_data';\n",
              "          await google.colab.output.renderOutput(dataTable, element);\n",
              "          const docLink = document.createElement('div');\n",
              "          docLink.innerHTML = docLinkHtml;\n",
              "          element.appendChild(docLink);\n",
              "        }\n",
              "      </script>\n",
              "    </div>\n",
              "  </div>\n",
              "  "
            ]
          },
          "metadata": {},
          "execution_count": 19
        }
      ]
    },
    {
      "cell_type": "markdown",
      "source": [
        "Agora vou pra parte de visualização."
      ],
      "metadata": {
        "id": "IyOjcuihnMHn"
      }
    },
    {
      "cell_type": "markdown",
      "source": [
        "# Visualizando os dados\n",
        "\n",
        "Mesmo não sendo um conjunto de variáveis muito grande, vale a pena investigar as suas relações."
      ],
      "metadata": {
        "id": "zWpiI_vinPZy"
      }
    },
    {
      "cell_type": "code",
      "source": [
        "# Visualizando os maiores PIBs\n",
        "sns.barplot(x=dfFinal['municipio'].head(5),y=dfFinal['PIB(R$1000,00)'],data=dfFinal)"
      ],
      "metadata": {
        "colab": {
          "base_uri": "https://localhost:8080/",
          "height": 307
        },
        "id": "NAjV4ijTqvHi",
        "outputId": "2afd9606-9c75-4ccb-9a72-962d6ac8e902"
      },
      "execution_count": 20,
      "outputs": [
        {
          "output_type": "execute_result",
          "data": {
            "text/plain": [
              "<matplotlib.axes._subplots.AxesSubplot at 0x7f872eab5990>"
            ]
          },
          "metadata": {},
          "execution_count": 20
        },
        {
          "output_type": "display_data",
          "data": {
            "text/plain": [
              "<Figure size 432x288 with 1 Axes>"
            ],
            "image/png": "[encoded data removed]"
          },
          "metadata": {
            "needs_background": "light"
          }
        }
      ]
    },
    {
      "cell_type": "code",
      "source": [
        "# População\n",
        "sns.barplot(x=dfFinal['municipio'].head(5),y=dfFinal['populacao'],data=dfFinal)"
      ],
      "metadata": {
        "colab": {
          "base_uri": "https://localhost:8080/",
          "height": 307
        },
        "id": "DVkCSKeusSgj",
        "outputId": "cf42fbaa-2200-457c-eb25-111213163fd1"
      },
      "execution_count": 21,
      "outputs": [
        {
          "output_type": "execute_result",
          "data": {
            "text/plain": [
              "<matplotlib.axes._subplots.AxesSubplot at 0x7f872ea6c310>"
            ]
          },
          "metadata": {},
          "execution_count": 21
        },
        {
          "output_type": "display_data",
          "data": {
            "text/plain": [
              "<Figure size 432x288 with 1 Axes>"
            ],
            "image/png": "[encoded data removed]"
          },
          "metadata": {
            "needs_background": "light"
          }
        }
      ]
    },
    {
      "cell_type": "markdown",
      "source": [
        "Não coincidentemente, os maiores municipios são também os mais ricos, pois tem mais gente pra produzir."
      ],
      "metadata": {
        "id": "AigGshqLsePJ"
      }
    },
    {
      "cell_type": "code",
      "source": [
        "# Agora vendo os menores valores\n",
        "# PIB\n",
        "sns.barplot(x=dfFinal['municipio'].tail(5),y=dfFinal['PIB(R$1000,00)'],data=dfFinal)\n",
        "sns.set(rc={'figure.figsize':(9,11)})"
      ],
      "metadata": {
        "colab": {
          "base_uri": "https://localhost:8080/",
          "height": 557
        },
        "id": "rZGH4OLWvkQB",
        "outputId": "3f919c19-ae19-44b0-e476-ac207657a804"
      },
      "execution_count": 28,
      "outputs": [
        {
          "output_type": "display_data",
          "data": {
            "text/plain": [
              "<Figure size 648x648 with 1 Axes>"
            ],
            "image/png": "[encoded data removed]"
          },
          "metadata": {}
        }
      ]
    },
    {
      "cell_type": "code",
      "source": [
        "# PIB\n",
        "sns.barplot(x=dfFinal['municipio'].tail(5),y=dfFinal['populacao'],data=dfFinal)\n",
        "sns.set(rc={'figure.figsize':(9,9)})"
      ],
      "metadata": {
        "id": "Nbe7-OnNwIAX",
        "outputId": "e039ea16-6d95-4438-b309-bd8007e25b55",
        "colab": {
          "base_uri": "https://localhost:8080/",
          "height": 557
        }
      },
      "execution_count": 23,
      "outputs": [
        {
          "output_type": "display_data",
          "data": {
            "text/plain": [
              "<Figure size 648x648 with 1 Axes>"
            ],
            "image/png": "[encoded data removed]"
          },
          "metadata": {}
        }
      ]
    },
    {
      "cell_type": "markdown",
      "source": [
        "O mesmo fenomeno ocorre nos menores valores, esse é mais um indício de correlação."
      ],
      "metadata": {
        "id": "-F9FQSD6wNqT"
      }
    },
    {
      "cell_type": "code",
      "source": [
        "# Analisando a amostra como um todo\n",
        "sns.pairplot(dfFinal)"
      ],
      "metadata": {
        "colab": {
          "base_uri": "https://localhost:8080/",
          "height": 742
        },
        "id": "4HcI5SMrqgZS",
        "outputId": "0ef3a5fa-8198-4168-8078-d2f198422400"
      },
      "execution_count": 24,
      "outputs": [
        {
          "output_type": "execute_result",
          "data": {
            "text/plain": [
              "<seaborn.axisgrid.PairGrid at 0x7f872ea1ef90>"
            ]
          },
          "metadata": {},
          "execution_count": 24
        },
        {
          "output_type": "display_data",
          "data": {
            "text/plain": [
              "<Figure size 720x720 with 20 Axes>"
            ],
            "image/png": "[encoded data removed]"
          },
          "metadata": {}
        }
      ]
    },
    {
      "cell_type": "markdown",
      "source": [
        "Pode parecer um pouco confusos. Mas um olhar mais detalhado para os graficos que relacionam população e PIB aparentam ter uma correlação positiva. Vou investigar mais a fundo."
      ],
      "metadata": {
        "id": "NFUJK0LFq7Gf"
      }
    },
    {
      "cell_type": "code",
      "source": [
        "# Correlação\n",
        "df_special = dfFinal[['populacao', 'PIB(R$1000,00)', 'posicao (populacao)', 'posicao (pib)']]\n",
        "df_special.corr()"
      ],
      "metadata": {
        "colab": {
          "base_uri": "https://localhost:8080/",
          "height": 175
        },
        "id": "WUqdCp5psmEz",
        "outputId": "80324f34-bef4-44e6-c22e-104519c4afc3"
      },
      "execution_count": 25,
      "outputs": [
        {
          "output_type": "execute_result",
          "data": {
            "text/plain": [
              "                     populacao  PIB(R$1000,00)  posicao (populacao)  \\\n",
              "populacao             1.000000        0.944723            -0.223541   \n",
              "PIB(R$1000,00)        0.944723        1.000000            -0.134132   \n",
              "posicao (populacao)  -0.223541       -0.134132             1.000000   \n",
              "posicao (pib)        -0.188648       -0.151554             0.738306   \n",
              "\n",
              "                     posicao (pib)  \n",
              "populacao                -0.188648  \n",
              "PIB(R$1000,00)           -0.151554  \n",
              "posicao (populacao)       0.738306  \n",
              "posicao (pib)             1.000000  "
            ],
            "text/html": [
              "\n",
              "  <div id=\"df-bdc0c4d6-7cee-4ae1-ae0e-c242c5e83e4f\">\n",
              "    <div class=\"colab-df-container\">\n",
              "      <div>\n",
              "<style scoped>\n",
              "    .dataframe tbody tr th:only-of-type {\n",
              "        vertical-align: middle;\n",
              "    }\n",
              "\n",
              "    .dataframe tbody tr th {\n",
              "        vertical-align: top;\n",
              "    }\n",
              "\n",
              "    .dataframe thead th {\n",
              "        text-align: right;\n",
              "    }\n",
              "</style>\n",
              "<table border=\"1\" class=\"dataframe\">\n",
              "  <thead>\n",
              "    <tr style=\"text-align: right;\">\n",
              "      <th></th>\n",
              "      <th>populacao</th>\n",
              "      <th>PIB(R$1000,00)</th>\n",
              "      <th>posicao (populacao)</th>\n",
              "      <th>posicao (pib)</th>\n",
              "    </tr>\n",
              "  </thead>\n",
              "  <tbody>\n",
              "    <tr>\n",
              "      <th>populacao</th>\n",
              "      <td>1.000000</td>\n",
              "      <td>0.944723</td>\n",
              "      <td>-0.223541</td>\n",
              "      <td>-0.188648</td>\n",
              "    </tr>\n",
              "    <tr>\n",
              "      <th>PIB(R$1000,00)</th>\n",
              "      <td>0.944723</td>\n",
              "      <td>1.000000</td>\n",
              "      <td>-0.134132</td>\n",
              "      <td>-0.151554</td>\n",
              "    </tr>\n",
              "    <tr>\n",
              "      <th>posicao (populacao)</th>\n",
              "      <td>-0.223541</td>\n",
              "      <td>-0.134132</td>\n",
              "      <td>1.000000</td>\n",
              "      <td>0.738306</td>\n",
              "    </tr>\n",
              "    <tr>\n",
              "      <th>posicao (pib)</th>\n",
              "      <td>-0.188648</td>\n",
              "      <td>-0.151554</td>\n",
              "      <td>0.738306</td>\n",
              "      <td>1.000000</td>\n",
              "    </tr>\n",
              "  </tbody>\n",
              "</table>\n",
              "</div>\n",
              "      <button class=\"colab-df-convert\" onclick=\"convertToInteractive('df-bdc0c4d6-7cee-4ae1-ae0e-c242c5e83e4f')\"\n",
              "              title=\"Convert this dataframe to an interactive table.\"\n",
              "              style=\"display:none;\">\n",
              "        \n",
              "  <svg xmlns=\"http://www.w3.org/2000/svg\" height=\"24px\"viewBox=\"0 0 24 24\"\n",
              "       width=\"24px\">\n",
              "    <path d=\"M0 0h24v24H0V0z\" fill=\"none\"/>\n",
              "    <path d=\"M18.56 5.44l.94 2.06.94-2.06 2.06-.94-2.06-.94-.94-2.06-.94 2.06-2.06.94zm-11 1L8.5 8.5l.94-2.06 2.06-.94-2.06-.94L8.5 2.5l-.94 2.06-2.06.94zm10 10l.94 2.06.94-2.06 2.06-.94-2.06-.94-.94-2.06-.94 2.06-2.06.94z\"/><path d=\"M17.41 7.96l-1.37-1.37c-.4-.4-.92-.59-1.43-.59-.52 0-1.04.2-1.43.59L10.3 9.45l-7.72 7.72c-.78.78-.78 2.05 0 2.83L4 21.41c.39.39.9.59 1.41.59.51 0 1.02-.2 1.41-.59l7.78-7.78 2.81-2.81c.8-.78.8-2.07 0-2.86zM5.41 20L4 18.59l7.72-7.72 1.47 1.35L5.41 20z\"/>\n",
              "  </svg>\n",
              "      </button>\n",
              "      \n",
              "  <style>\n",
              "    .colab-df-container {\n",
              "      display:flex;\n",
              "      flex-wrap:wrap;\n",
              "      gap: 12px;\n",
              "    }\n",
              "\n",
              "    .colab-df-convert {\n",
              "      background-color: #E8F0FE;\n",
              "      border: none;\n",
              "      border-radius: 50%;\n",
              "      cursor: pointer;\n",
              "      display: none;\n",
              "      fill: #1967D2;\n",
              "      height: 32px;\n",
              "      padding: 0 0 0 0;\n",
              "      width: 32px;\n",
              "    }\n",
              "\n",
              "    .colab-df-convert:hover {\n",
              "      background-color: #E2EBFA;\n",
              "      box-shadow: 0px 1px 2px rgba(60, 64, 67, 0.3), 0px 1px 3px 1px rgba(60, 64, 67, 0.15);\n",
              "      fill: #174EA6;\n",
              "    }\n",
              "\n",
              "    [theme=dark] .colab-df-convert {\n",
              "      background-color: #3B4455;\n",
              "      fill: #D2E3FC;\n",
              "    }\n",
              "\n",
              "    [theme=dark] .colab-df-convert:hover {\n",
              "      background-color: #434B5C;\n",
              "      box-shadow: 0px 1px 3px 1px rgba(0, 0, 0, 0.15);\n",
              "      filter: drop-shadow(0px 1px 2px rgba(0, 0, 0, 0.3));\n",
              "      fill: #FFFFFF;\n",
              "    }\n",
              "  </style>\n",
              "\n",
              "      <script>\n",
              "        const buttonEl =\n",
              "          document.querySelector('#df-bdc0c4d6-7cee-4ae1-ae0e-c242c5e83e4f button.colab-df-convert');\n",
              "        buttonEl.style.display =\n",
              "          google.colab.kernel.accessAllowed ? 'block' : 'none';\n",
              "\n",
              "        async function convertToInteractive(key) {\n",
              "          const element = document.querySelector('#df-bdc0c4d6-7cee-4ae1-ae0e-c242c5e83e4f');\n",
              "          const dataTable =\n",
              "            await google.colab.kernel.invokeFunction('convertToInteractive',\n",
              "                                                     [key], {});\n",
              "          if (!dataTable) return;\n",
              "\n",
              "          const docLinkHtml = 'Like what you see? Visit the ' +\n",
              "            '<a target=\"_blank\" href=https://colab.research.google.com/notebooks/data_table.ipynb>data table notebook</a>'\n",
              "            + ' to learn more about interactive tables.';\n",
              "          element.innerHTML = '';\n",
              "          dataTable['output_type'] = 'display_data';\n",
              "          await google.colab.output.renderOutput(dataTable, element);\n",
              "          const docLink = document.createElement('div');\n",
              "          docLink.innerHTML = docLinkHtml;\n",
              "          element.appendChild(docLink);\n",
              "        }\n",
              "      </script>\n",
              "    </div>\n",
              "  </div>\n",
              "  "
            ]
          },
          "metadata": {},
          "execution_count": 25
        }
      ]
    },
    {
      "cell_type": "code",
      "source": [
        "# Agora visualizando a correlação com heatmap\n",
        "sns.heatmap(df_special.corr(), cmap='coolwarm')"
      ],
      "metadata": {
        "colab": {
          "base_uri": "https://localhost:8080/",
          "height": 561
        },
        "id": "A3PPM54BtbGt",
        "outputId": "72fa7d6a-0aa2-4dbc-f6d3-f026300db813"
      },
      "execution_count": 26,
      "outputs": [
        {
          "output_type": "execute_result",
          "data": {
            "text/plain": [
              "<matplotlib.axes._subplots.AxesSubplot at 0x7f871d0ad8d0>"
            ]
          },
          "metadata": {},
          "execution_count": 26
        },
        {
          "output_type": "display_data",
          "data": {
            "text/plain": [
              "<Figure size 648x648 with 2 Axes>"
            ],
            "image/png": "[encoded data removed]"
          },
          "metadata": {}
        }
      ]
    },
    {
      "cell_type": "markdown",
      "source": [
        "Como esperado, a correlação foi forte e positiva."
      ],
      "metadata": {
        "id": "tX0-wSQluDgg"
      }
    },
    {
      "cell_type": "code",
      "source": [
        "# Exportando em um CSV\n",
        "dfFinal.to_csv('Dataframe.csv', index = False)"
      ],
      "metadata": {
        "id": "AKYa5os6GPIm"
      },
      "execution_count": 27,
      "outputs": []
    }
  ]
}